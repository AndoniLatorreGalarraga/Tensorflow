{
 "cells": [
  {
   "cell_type": "markdown",
   "metadata": {},
   "source": [
    "# Reinforcement learning"
   ]
  },
  {
   "cell_type": "markdown",
   "metadata": {},
   "source": [
    "## Introduction"
   ]
  },
  {
   "cell_type": "markdown",
   "metadata": {},
   "source": [
    "In *reinforcement learning* we have:\n",
    "- *Agent*\n",
    "- *Environment*\n",
    "- *State*\n",
    "- *Action*\n",
    "- *Reward*\n",
    "\n",
    "The *agent* is given a *state* by the *environment*. Then, the *agent* gives the *environment* an *action*. In return, the *environment* gives the *agent* a *new state* and a *reward*.\n",
    "\n",
    "![alt text](https://www.kdnuggets.com/images/reinforcement-learning-fig1-700.jpg)\n",
    "\n",
    "The goal of *reinforcement learning* is to create an agent that takes actions in way that maximizes the reward. At first the agent doesn't know about the environment. The agent learns by exploration."
   ]
  },
  {
   "cell_type": "markdown",
   "metadata": {},
   "source": [
    "## 1. MDPs, Policies, Value and Quality"
   ]
  },
  {
   "cell_type": "markdown",
   "metadata": {},
   "source": [
    "### Markov decision process\n",
    "A *Markov decision process* (MDP) is a 4-tuple $(S, A, P_a, R_a)$, where:  \n",
    "- $S$ is a set of states called the *state space*.  \n",
    "- $A$ is a set of actions called the *action space*.  \n",
    "- $P_a(s, s') = P(s_{t+1} = s' \\mid s_t = s, a_t = a)$ is the the probability that action $a$ is state $s$ at time $t$ will lead to state $s'$ at time $t+1$, i.e., the transition probability between states $s$ and $s'$ if action $a$ is taken.  \n",
    "- $R_a(s, s')$ is the immediate reward received after transitioning from state $s$ to state $s'$, due to action $a$,.  \n",
    "\n",
    "$A_s$ is the set of actions available from state $s$.  \n",
    "A state $s$ is an *end state* if $P_a(s,s')=0 \\:\\: \\forall s'\\in S-\\{s\\} \\:\\: \\forall a\\in A$, i.e, $P_a(s,s)=1 \\:\\: \\forall a\\in A$.\n",
    "\n",
    "We say a MDP is finite if both $S$ and $A$ are finite."
   ]
  },
  {
   "cell_type": "markdown",
   "metadata": {},
   "source": [
    "### Examples\n",
    "No end states:  \n",
    "![alt text](https://upload.wikimedia.org/wikipedia/commons/thumb/a/ad/Markov_Decision_Process.svg/400px-Markov_Decision_Process.svg.png)  \n",
    "Has an end state:  \n",
    "![alt text](https://encrypted-tbn0.gstatic.com/images?q=tbn:ANd9GcTx1sW5YrKtK-70OkAC-EGukDKcPUOnX28rv-0UJYcZVSy8IoiiQIPW3MXiZfpzcNW_HxE&usqp=CAU)"
   ]
  },
  {
   "cell_type": "markdown",
   "metadata": {},
   "source": [
    "### Policy\n",
    "A *policy* is how the agent choses what to do in a given state.  \n",
    "  \n",
    "A *(probabilistic) policy* $\\pi$ is a mapping from $S\\times A$ to $[0,1]$.  \n",
    "$\\begin{array}{rcl} \\pi\\: :\\: A\\times S & \\rightarrow & [0,1]\\\\ (a,s) & \\mapsto & \\pi(a,s) = P(a_t = a \\mid s_t = s) \\end{array}$  \n",
    "It is the probability of choosing action $a$ in state $s$.  \n",
    "  \n",
    "A *(non probabilistic) policy* $\\pi$ is a mapping form $S$ to $A$.  \n",
    "$\\begin{array}{rcl} \\pi\\: :\\: S& \\rightarrow & A\\\\ s & \\mapsto & \\pi(s) = a \\end{array}$  \n",
    "When we are in state $s$ we take action $a$."
   ]
  },
  {
   "cell_type": "markdown",
   "metadata": {},
   "source": [
    "### Value and Quality functions\n",
    "If we take actions using a policy *pi* we define two functions as follows.\n",
    "\n",
    "The *value function* is the expected return of starting in state $s$.  \n",
    "$\\displaystyle V_\\pi(s) = \\mathbb{E}[R \\mid s_0 = s] = \\mathbb{E}[\\sum_{t=0}^\\infty \\gamma^t r_t \\mid s_0 = s]$  \n",
    "Where $r_t = R_{a_t}(s_t, s_{t+1})$ and $\\gamma \\in [0, 1]$ is the *discount factor*.\n",
    "  \n",
    "The *quality function* is the expected return of taking action $a$ in state $s$.  \n",
    "$\\displaystyle Q_\\pi(s,a) = \\mathbb{E}[R \\mid s_0 = s, a_0 = a] = \\mathbb{E}[\\sum_{t=0}^\\infty \\gamma^t r_t \\mid s_0 = s, a_0 = a]$\n",
    "\n"
   ]
  },
  {
   "cell_type": "markdown",
   "metadata": {},
   "source": [
    "### Relation between value and quality\n",
    "Let $\\pi$ be a probabilistic policy in a finite MDP.<br>\n",
    "$\\begin{align*}\n",
    "V_\\pi(s) &= \\mathbb{E}[R \\mid s_0 = s] \\\\\n",
    "&= \\mathbb{E}[\\sum_{t=0}^\\infty \\gamma^t r_t \\mid s_0 = s] \\\\\n",
    "&= \\mathbb{E}[r_0 + \\sum_{t=1}^\\infty \\gamma^t r_t \\mid s_0 = s] \\\\\n",
    "&= \\mathbb{E}[r_0 + \\gamma \\sum_{t=0}^\\infty \\gamma^t r_{t+1} \\mid s_0 = s] \\\\\n",
    "&= \\sum_{\\substack{a\\in A\\\\ \\tilde{s} \\in S}} \\pi(a, s_0) P_a(s_0,\\tilde{s}) (R_a(s,\\tilde{s}) + \\gamma V_\\pi(\\tilde{s})) \\\\\n",
    "&= \\sum_{a\\in A} \\pi(a, s_0) \\left( \\sum_{\\tilde{s} \\in S} P_a(s_0,\\tilde{s}) (R_a(s,\\tilde{s}) + \\gamma V_\\pi(\\tilde{s})) \\right) \\\\\n",
    "&= \\sum_{a\\in A} \\pi(a, s_0) \\mathbb{E}[R\\mid s_0 = s, a_0 = a] \\\\\n",
    "&= \\sum_{a\\in A} \\pi(a, s_0) Q_\\pi(s,a)\n",
    "\\end{align*}$<br>\n",
    "Let $\\pi$ be a non probabilistic policy in a finite MDP.<br>\n",
    "$\\begin{align*}\n",
    "V_\\pi(s) &= \\mathbb{E}[R \\mid s_0 = s] \\\\\n",
    "&= \\mathbb{E}[\\sum_{t=0}^\\infty \\gamma^t r_t \\mid s_0 = s] \\\\\n",
    "&= \\mathbb{E}[r_0 + \\sum_{t=1}^\\infty \\gamma^t r_t \\mid s_0 = s] \\\\\n",
    "&= \\mathbb{E}[r_0 + \\gamma \\sum_{t=0}^\\infty \\gamma^t r_{t+1} \\mid s_0 = s] \\\\\n",
    "&= \\sum_{\\tilde{s} \\in S} P_{\\pi(s)}(s_0,\\tilde{s}) (R_{\\pi(s)}(s,\\tilde{s}) + \\gamma V_\\pi(\\tilde{s})) \\\\\n",
    "&= \\mathbb{E}[\\sum_{t=0}^\\infty \\gamma^t r_t \\mid s_0 = s, a_0 = \\pi(s_0)] \\\\\n",
    "&= Q_\\pi(s, \\pi(s)) \\\\\n",
    "\\end{align*}$<br>\n",
    "$\\begin{align*}\n",
    "Q_\\pi(s, \\pi(s)) &= \\sum_{\\tilde{s} \\in S} P_{\\pi(s)}(s_0,\\tilde{s}) (R_{\\pi(s)}(s,\\tilde{s}) + \\gamma V_\\pi(\\tilde{s})) \\\\\n",
    "& = \\sum_{\\tilde{s} \\in S} P_{\\pi(s)}(s_0,\\tilde{s}) (R_{\\pi(s)}(s,\\tilde{s}) + \\gamma Q_\\pi(\\tilde{s}, \\pi(\\tilde{s}))\n",
    "\\end{align*}$"
   ]
  },
  {
   "cell_type": "markdown",
   "metadata": {},
   "source": [
    "### Optimal policy\n",
    "In a finite MDP we say a policy $\\pi^*$ is optimal if and only if $V_{\\pi^*}(s) \\ge V_\\pi(s)$ for any state $s$ and any policy $\\pi$. It can be proven that such policy exists [^1] and that such policy is deterministic [^2].\n",
    "\n",
    "[^1]: https://towardsdatascience.com/why-does-the-optimal-policy-exist-29f30fd51f8c\n",
    "[^2]: https://mathoverflow.net/questions/44677/is-there-mdps-markow-decision-process-which-have-a-non-deterministic-optimal-p"
   ]
  },
  {
   "cell_type": "markdown",
   "metadata": {},
   "source": [
    "## 2. Q-learning (finite MDPs)"
   ]
  },
  {
   "cell_type": "markdown",
   "metadata": {},
   "source": [
    "Since $V_\\pi(s) = Q_\\pi(s, \\pi(s))$ in order to maximize value we will maximize quality. In Q-learning we will try to calculate (learn) the values of the quality function, . Then, our policy will be to choose the action of highest quality. If $q(s,a)$ is the learned quality, our policy will be $\\pi(s)=a$ such that $q(s,a)\\geq q(s,a')\\forall a'\\in A$. If a policy is optimal then, $V_{\\pi^*}(s) = \\underset{a\\in A}{\\max} \\{ Q_{\\pi^*}(s, a) \\}$. Therefore,\n",
    "$\\begin{align*}\n",
    "Q_{\\pi^*}(s, \\pi^*(s)) &= \\sum_{\\tilde{s} \\in S} P_{\\pi^*(s)}(s_0,\\tilde{s}) (R_{\\pi^*(s)}(s,\\tilde{s}) + \\gamma V_{\\pi^*}(\\tilde{s})) \\\\\n",
    "&= \\sum_{\\tilde{s} \\in S} P_{\\pi^*(s)}(s_0,\\tilde{s}) (R_{\\pi^*(s)}(s,\\tilde{s}) + \\gamma \\underset{a\\in A}{\\max} \\{ Q_{\\pi^*}(\\tilde{s}, a) \\})\n",
    "\\end{align*}$\n",
    "Since the only unknown to our agent will be the transition probabilities we will calculate $q$ by iterating\n",
    "$\n",
    "q(s,a)\\leftarrow (1-\\alpha) q(s,a) + \\alpha (r_t + \\gamma \\underset{a' \\in A}{\\max}\\{q(s',a'\\})\n",
    "$\n",
    "Where $s'$ is the new state and $\\alpha$ is the learning rate."
   ]
  },
  {
   "cell_type": "markdown",
   "metadata": {},
   "source": [
    "### The algorithm [^3]\n",
    "Let $n_e$ be the number of episodes, $n_s$ the maximum number of steps per episode, $\\alpha$ the learning rate , $\\gamma$ the discount factor and $\\epsilon$ the probability of exploration.  \n",
    "\n",
    "Step 1: Set $q(s,a)=0$ for all states and actions.  \n",
    "Repeat $n_e$ times:  \n",
    "     Step 2: Reset the environment and get an initial state $s$.  \n",
    "     Repeat $n_s$ times or until an end state is reached:  \n",
    "          Step 3: With probability $\\epsilon$ jump to step 6.  \n",
    "          Step 4: Set $a$ to be an action such that $q(s,a)\\geq q(s,a')\\forall a' \\in A$.  \n",
    "          Step 5: Jump to step 7.   \n",
    "          Step 6 Set $a$ to be a random action.  \n",
    "          Step 7: Take action $a$ and get a new state $\\tilde{s}$ and a reward $r$.  \n",
    "          Step 8: $q(s,a) \\leftarrow q(s,a) + \\alpha (r + \\gamma \\underset{a' \\in A}{\\max}\\{q(\\tilde{s},a'\\} - q(s,a))$  \n",
    "          Step 9: $s \\leftarrow \\tilde{s}$  \n",
    "          Step 10: If posible, check if $s$ is an end state.\n",
    "\n",
    "The algorithm ensures convergence to the optimal policy under some conditions [^4]. In practice, $\\alpha\\in[0,1]$ and $\\gamma\\in[0,1)$. Also, that the reward for staying in an end state is $0$.\n",
    "\n",
    "[^3]: https://towardsdatascience.com/simple-reinforcement-learning-q-learning-fcddc4b6fe56\n",
    "[^4]: http://users.isr.ist.utl.pt/~mtjspaan/readingGroup/ProofQlearning.pdf"
   ]
  },
  {
   "cell_type": "markdown",
   "metadata": {},
   "source": [
    "### Example\n",
    "OpenAi gym env frozen Lake  \n",
    "OpenAi gym env cart pole env discretized  "
   ]
  },
  {
   "cell_type": "markdown",
   "metadata": {},
   "source": [
    "# Footnotes\n",
    "[1] https://towardsdatascience.com/why-does-the-optimal-policy-exist-29f30fd51f8c  \n",
    "[2] https://mathoverflow.net/questions/44677/is-there-mdps-markow-decision-process-which-have-a-non-deterministic-optimal-p  \n",
    "[3] https://towardsdatascience.com/simple-reinforcement-learning-q-learning-fcddc4b6fe56  \n",
    "[4] http://users.isr.ist.utl.pt/~mtjspaan/readingGroup/ProofQlearning.pdf"
   ]
  }
 ],
 "metadata": {
  "interpreter": {
   "hash": "2647ea34e536f865ab67ff9ddee7fd78773d956cec0cab53c79b32cd10da5d83"
  },
  "kernelspec": {
   "display_name": "Python 3.9.7 64-bit",
   "language": "python",
   "name": "python3"
  },
  "language_info": {
   "codemirror_mode": {
    "name": "ipython",
    "version": 3
   },
   "file_extension": ".py",
   "mimetype": "text/x-python",
   "name": "python",
   "nbconvert_exporter": "python",
   "pygments_lexer": "ipython3",
   "version": "3.9.7"
  },
  "orig_nbformat": 4
 },
 "nbformat": 4,
 "nbformat_minor": 2
}
