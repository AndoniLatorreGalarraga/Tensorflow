{
 "cells": [
  {
   "cell_type": "markdown",
   "metadata": {},
   "source": [
    "# Reinforcement learning"
   ]
  },
  {
   "cell_type": "markdown",
   "metadata": {},
   "source": [
    "## Introduction"
   ]
  },
  {
   "cell_type": "markdown",
   "metadata": {},
   "source": [
    "In *reinforcement learning* we have:\n",
    "- *Agent*\n",
    "- *Enviroment*\n",
    "- *State*\n",
    "- *Action*\n",
    "- *Reward*\n",
    "\n",
    "![alt text](https://www.kdnuggets.com/images/reinforcement-learning-fig1-700.jpg)"
   ]
  },
  {
   "cell_type": "markdown",
   "metadata": {},
   "source": [
    "## 1"
   ]
  },
  {
   "cell_type": "markdown",
   "metadata": {},
   "source": [
    "### Markov decision process\n",
    "A *Markov decision process* is a 4-tuple $(S, A, P_a, R_a)$, where:  \n",
    "- $S$ is a set of states called the *state sapace*.  \n",
    "- $A$ is a set of actions called the *action space*.  \n",
    "- $P_a(s, s') = P(s_{t+1} = s' \\mid s_t = s, a_t = a)$ is the the probability that action $a$ is state $s$ at time $t$ will lead to state $s'$ at time $t+1$, i.e., the transition probability between states $s$ and $s'$ if action $a$ is taken.  \n",
    "- $R_a(s, s')$ is the immediate reward recieved after transitioning from state $s$ to state $s'$, due to action $a$,.  \n",
    "\n",
    "$A_s$ is the set of actions available from state $s$.  \n",
    "A state $s$ is an *end state* if $P_a(s,s')=0 \\:\\: \\forall s'\\in S-\\{s\\} \\:\\: \\forall a\\in A$, i.e, $P_a(s,s)=1 \\:\\: \\forall a\\in A$."
   ]
  },
  {
   "cell_type": "markdown",
   "metadata": {},
   "source": [
    "### Examples\n",
    "No end states:  \n",
    "![alt text](https://upload.wikimedia.org/wikipedia/commons/thumb/a/ad/Markov_Decision_Process.svg/400px-Markov_Decision_Process.svg.png)  \n",
    "Has an end state:  \n",
    "![alt text](https://encrypted-tbn0.gstatic.com/images?q=tbn:ANd9GcTx1sW5YrKtK-70OkAC-EGukDKcPUOnX28rv-0UJYcZVSy8IoiiQIPW3MXiZfpzcNW_HxE&usqp=CAU)"
   ]
  },
  {
   "cell_type": "markdown",
   "metadata": {},
   "source": [
    "### Policy\n",
    "A *policy* $\\pi$ is a maping from $S\\times A$ to $[0,1]$.  \n",
    "$\\begin{array}{rcl} \\pi\\: :\\: A\\times S & \\rightarrow & [0,1]\\\\ (a,s) & \\mapsto & \\pi(a,s) = P(a_t = a \\mid s_t = s) \\end{array}$"
   ]
  },
  {
   "cell_type": "markdown",
   "metadata": {},
   "source": [
    "### Value function\n",
    "The *value function* is the expected return of starting in state $s$.  \n",
    "$\\displaystyle V_\\pi(s) = \\mathbb{E}[R \\mid s_0 = s] = \\mathbb{E}[\\sum_{t=0}^\\infty \\gamma^t r_t \\mid s_0 = s]$  \n",
    "Where $r_t = R_{a_t}(s_t, s_{t+1})$ and $\\gamma \\in [0, 1]$ is the *discount factor*."
   ]
  }
 ],
 "metadata": {
  "interpreter": {
   "hash": "2647ea34e536f865ab67ff9ddee7fd78773d956cec0cab53c79b32cd10da5d83"
  },
  "kernelspec": {
   "display_name": "Python 3.9.7 64-bit",
   "language": "python",
   "name": "python3"
  },
  "language_info": {
   "codemirror_mode": {
    "name": "ipython",
    "version": 3
   },
   "file_extension": ".py",
   "mimetype": "text/x-python",
   "name": "python",
   "nbconvert_exporter": "python",
   "pygments_lexer": "ipython3",
   "version": "3.9.7"
  },
  "orig_nbformat": 4
 },
 "nbformat": 4,
 "nbformat_minor": 2
}
