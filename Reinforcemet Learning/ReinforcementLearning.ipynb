{
 "cells": [
  {
   "cell_type": "markdown",
   "metadata": {},
   "source": [
    "# Reinforcement learning"
   ]
  },
  {
   "cell_type": "markdown",
   "metadata": {},
   "source": [
    "## Introduction"
   ]
  },
  {
   "cell_type": "markdown",
   "metadata": {},
   "source": [
    "In *reinforcement learning* we have:\n",
    "- *Agent*\n",
    "- *Environment*\n",
    "- *State*\n",
    "- *Action*\n",
    "- *Reward*\n",
    "\n",
    "The *agent* is given a *state* by the *environment*. Then, the *agent* gives the *environment* an *action*. In return, the *environment* gives the *agent* a *new state* and a *reward*.\n",
    "\n",
    "![alt text](https://www.kdnuggets.com/images/reinforcement-learning-fig1-700.jpg)\n",
    "\n",
    "The goal of *reinforcement learning* is to create an agent that takes actions in way that maximizes the reward. At first the agent doesn't know about the environment. The agent learns by exploration."
   ]
  },
  {
   "cell_type": "markdown",
   "metadata": {},
   "source": [
    "## 1"
   ]
  },
  {
   "cell_type": "markdown",
   "metadata": {},
   "source": [
    "### Markov decision process\n",
    "A *Markov decision process* (MDP) is a 4-tuple $(S, A, P_a, R_a)$, where:  \n",
    "- $S$ is a set of states called the *state space*.  \n",
    "- $A$ is a set of actions called the *action space*.  \n",
    "- $P_a(s, s') = P(s_{t+1} = s' \\mid s_t = s, a_t = a)$ is the the probability that action $a$ is state $s$ at time $t$ will lead to state $s'$ at time $t+1$, i.e., the transition probability between states $s$ and $s'$ if action $a$ is taken.  \n",
    "- $R_a(s, s')$ is the immediate reward received after transitioning from state $s$ to state $s'$, due to action $a$,.  \n",
    "\n",
    "$A_s$ is the set of actions available from state $s$.  \n",
    "A state $s$ is an *end state* if $P_a(s,s')=0 \\:\\: \\forall s'\\in S-\\{s\\} \\:\\: \\forall a\\in A$, i.e, $P_a(s,s)=1 \\:\\: \\forall a\\in A$.\n",
    "\n",
    "We say a MDP is finite if both $S$ and $A$ are finite."
   ]
  },
  {
   "cell_type": "markdown",
   "metadata": {},
   "source": [
    "### Examples\n",
    "No end states:  \n",
    "![alt text](https://upload.wikimedia.org/wikipedia/commons/thumb/a/ad/Markov_Decision_Process.svg/400px-Markov_Decision_Process.svg.png)  \n",
    "Has an end state:  \n",
    "![alt text](https://encrypted-tbn0.gstatic.com/images?q=tbn:ANd9GcTx1sW5YrKtK-70OkAC-EGukDKcPUOnX28rv-0UJYcZVSy8IoiiQIPW3MXiZfpzcNW_HxE&usqp=CAU)"
   ]
  },
  {
   "cell_type": "markdown",
   "metadata": {},
   "source": [
    "### Policy\n",
    "A *policy* is how the agent choses what to do in a given state.  \n",
    "  \n",
    "A *(probabilistic) policy* $\\pi$ is a mapping from $S\\times A$ to $[0,1]$.  \n",
    "$\\begin{array}{rcl} \\pi\\: :\\: A\\times S & \\rightarrow & [0,1]\\\\ (a,s) & \\mapsto & \\pi(a,s) = P(a_t = a \\mid s_t = s) \\end{array}$  \n",
    "It is the probability of choosing action $a$ in state $s$.  \n",
    "  \n",
    "A *(non probabilistic) policy* $\\pi$ is a mapping form $S$ to $A$.  \n",
    "$\\begin{array}{rcl} \\pi\\: :\\: S& \\rightarrow & A\\\\ s & \\mapsto & \\pi(s) = a \\end{array}$  \n",
    "When we are in state $s$ we take action $a$."
   ]
  },
  {
   "cell_type": "markdown",
   "metadata": {},
   "source": [
    "### Value and Quality functions\n",
    "If we take actions using a policy *pi* we define two functions as follows.\n",
    "\n",
    "The *value function* is the expected return of starting in state $s$.  \n",
    "$\\displaystyle V_\\pi(s) = \\mathbb{E}[R \\mid s_0 = s] = \\mathbb{E}[\\sum_{t=0}^\\infty \\gamma^t r_t \\mid s_0 = s]$  \n",
    "Where $r_t = R_{a_t}(s_t, s_{t+1})$ and $\\gamma \\in [0, 1]$ is the *discount factor*.\n",
    "  \n",
    "The *quality function* is the expected return of taking action $a$ in state $s$.  \n",
    "$\\displaystyle Q_\\pi(s,a) = \\mathbb{E}[R \\mid s_0 = s] = \\mathbb{E}[\\sum_{t=0}^\\infty \\gamma^t r_t \\mid s_0 = s, a_0 = a]$\n",
    "\n"
   ]
  },
  {
   "cell_type": "markdown",
   "metadata": {},
   "source": [
    "### Optimal policy\n",
    "In a finite MDP we say a policy $\\pi^*$ is optimal if and only if $V_{\\pi^*}(s) \\ge V_\\pi(s)$ for any state $s$ and any policy $\\pi$."
   ]
  }
 ],
 "metadata": {
  "interpreter": {
   "hash": "2647ea34e536f865ab67ff9ddee7fd78773d956cec0cab53c79b32cd10da5d83"
  },
  "kernelspec": {
   "display_name": "Python 3.9.7 64-bit",
   "language": "python",
   "name": "python3"
  },
  "language_info": {
   "codemirror_mode": {
    "name": "ipython",
    "version": 3
   },
   "file_extension": ".py",
   "mimetype": "text/x-python",
   "name": "python",
   "nbconvert_exporter": "python",
   "pygments_lexer": "ipython3",
   "version": "3.9.7"
  },
  "orig_nbformat": 4
 },
 "nbformat": 4,
 "nbformat_minor": 2
}
